{
  "nbformat": 4,
  "nbformat_minor": 0,
  "metadata": {
    "colab": {
      "provenance": [],
      "authorship_tag": "ABX9TyMyqL4srQrj1cKWpzKyT+p5",
      "include_colab_link": true
    },
    "kernelspec": {
      "name": "python3",
      "display_name": "Python 3"
    },
    "language_info": {
      "name": "python"
    }
  },
  "cells": [
    {
      "cell_type": "markdown",
      "metadata": {
        "id": "view-in-github",
        "colab_type": "text"
      },
      "source": [
        "<a href=\"https://colab.research.google.com/github/Jihui0207/Chatbotmaker/blob/main/Chatbot.ipynb\" target=\"_parent\"><img src=\"https://colab.research.google.com/assets/colab-badge.svg\" alt=\"Open In Colab\"/></a>"
      ]
    },
    {
      "cell_type": "code",
      "source": [
        "import os\n",
        "import pandas as pd\n",
        "\n",
        "def calc_distance(a, b):\n",
        "    if a == b:\n",
        "        return 0  # 같으면 0을 반환\n",
        "    a_len = len(a)  # a 길이\n",
        "    b_len = len(b)  # b 길이\n",
        "    if a == \"\":\n",
        "        return b_len\n",
        "    if b == \"\":\n",
        "        return a_len\n",
        "\n",
        "    # 2차원 배열 준비\n",
        "    matrix = [[0] * (b_len + 1) for _ in range(a_len + 1)]\n",
        "\n",
        "    # 초기값 설정\n",
        "    for i in range(a_len + 1):\n",
        "        matrix[i][0] = i\n",
        "    for j in range(b_len + 1):\n",
        "        matrix[0][j] = j\n",
        "\n",
        "    # 표 채우기\n",
        "    for i in range(a_len):\n",
        "        for j in range(b_len):\n",
        "            ac = a[i]\n",
        "            bc = b[j]\n",
        "            cost = 0 if ac == bc else 1\n",
        "            matrix[i + 1][j + 1] = min([\n",
        "                matrix[i][j + 1] + 1,    # 문자 제거: 위쪽에서 +1\n",
        "                matrix[i + 1][j] + 1,    # 문자 삽입: 왼쪽에서 +1\n",
        "                matrix[i][j] + cost      # 문자 변경: 대각선에서 +cost\n",
        "            ])\n",
        "\n",
        "    return matrix[a_len][b_len]\n",
        "\n",
        "class SimpleChatBot:\n",
        "    def __init__(self, data_directory):\n",
        "        # 학습 데이터(질문, 답변 쌍)를 로드\n",
        "        self.questions, self.answers = self.load_data(data_directory)\n",
        "\n",
        "    def load_data(self, data_directory):\n",
        "        # CSV 파일 경로 설정\n",
        "        filepath = os.path.join(data_directory, 'ChatbotData.csv')\n",
        "        # CSV 파일로부터 질문과 답변 데이터를 불러옴\n",
        "        data = pd.read_csv(filepath)\n",
        "        questions = data['Q'].tolist()\n",
        "        answers = data['A'].tolist()\n",
        "        return questions, answers\n",
        "\n",
        "    def find_best_answer(self, input_sentence):\n",
        "        # 1. 학습데이터의 질문과 chat의 질문의 유사도를 레벤슈타인 거리를 이용해 구하기\n",
        "        distances = [calc_distance(input_sentence, question) for question in self.questions]\n",
        "        # 2. chat의 질문과 레벤슈타인 거리가 가장 유사한 학습데이터의 질문의 인덱스를 구하기\n",
        "        best_match_index = distances.index(min(distances))\n",
        "        # 3. 학습 데이터의 인덱스의 답을 chat의 답변으로 채택한 뒤 출력\n",
        "        return self.answers[best_match_index]\n",
        "\n",
        "# 데이터 파일이 있는 디렉토리 경로를 지정합니다.\n",
        "data_directory = './'\n",
        "\n",
        "# 챗봇 객체를 생성합니다.\n",
        "chatbot = SimpleChatBot(data_directory)\n",
        "\n",
        "# '종료'라는 단어가 입력될 때까지 챗봇과의 대화를 반복합니다.\n",
        "while True:\n",
        "    input_sentence = input('You: ')\n",
        "    if input_sentence.lower() == '종료':\n",
        "        break\n",
        "    response = chatbot.find_best_answer(input_sentence)\n",
        "    print('Chatbot:', response)\n"
      ],
      "metadata": {
        "id": "O1dSAMySBg96"
      },
      "execution_count": null,
      "outputs": []
    }
  ]
}